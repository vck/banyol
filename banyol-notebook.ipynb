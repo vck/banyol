{
 "cells": [
  {
   "cell_type": "markdown",
   "metadata": {},
   "source": []
  },
  {
   "cell_type": "code",
   "execution_count": 2,
   "metadata": {
    "collapsed": false
   },
   "outputs": [],
   "source": [
    "import gensim\n",
    "import records"
   ]
  },
  {
   "cell_type": "code",
   "execution_count": 4,
   "metadata": {
    "collapsed": false
   },
   "outputs": [],
   "source": [
    "corpora = []\n",
    "db = records.Database(\"sqlite:////home/vickydasta/git/omnigates/omnigates/polls.sqlite\")\n",
    "for title in db.query(\"select title from polls\").all():\n",
    "    corpora.append(title.title)"
   ]
  },
  {
   "cell_type": "code",
   "execution_count": 10,
   "metadata": {
    "collapsed": false
   },
   "outputs": [],
   "source": [
    "import gensim, logging\n",
    "logging.basicConfig(format='%(asctime)s : %(levelname)s : %(message)s', level=logging.INFO)\n",
    " \n",
    "sentences = [['first', 'sentence'], ['second', 'sentence']]\n",
    "# train word2vec on the two sentences\n",
    "\n"
   ]
  },
  {
   "cell_type": "code",
   "execution_count": 23,
   "metadata": {
    "collapsed": false
   },
   "outputs": [
    {
     "data": {
      "text/plain": [
       "[[u'bagaimana', u'meningkatkan', u'minat', u'belajar?'],\n",
       " [u'cara', u'meningkatkan', u'gula', u'darah'],\n",
       " [u'cara', u'meningkatkan', u'gula', u'darah'],\n",
       " [u'cara', u'meningkatkan', u'gula', u'darah'],\n",
       " [u'belajar', u'bareng'],\n",
       " [u'tingkat', u'kurang', u'belajar'],\n",
       " [u'kurang', u'nafsu', u'makan'],\n",
       " [u'kemampuan', u'berpikir', u'lemah'],\n",
       " [u'is', u'quora', u'good', u'enough?'],\n",
       " [u'orang', u'kaya', u'dan', u'orang', u'miskin'],\n",
       " [u'gula', u'darah'],\n",
       " [u'penemu', u'pesawat', u'terbang'],\n",
       " [u'makanan', u'paling', u'enak'],\n",
       " [u'kue', u'jahe'],\n",
       " [u'polling', u'paling', u'buruk'],\n",
       " [u'bang', u'haji', u'roma', u':v'],\n",
       " [u'haha'],\n",
       " [u'bos', u'gue'],\n",
       " [u'anak', u'siapa'],\n",
       " [u'<h1>hello</hello>'],\n",
       " [u'polls'],\n",
       " [u'bola'],\n",
       " [u'kemarin', u'paman', u'datang']]"
      ]
     },
     "execution_count": 23,
     "metadata": {},
     "output_type": "execute_result"
    }
   ],
   "source": [
    "corpus = [w.split() for w in corpora]\n",
    "corpus"
   ]
  },
  {
   "cell_type": "code",
   "execution_count": 19,
   "metadata": {
    "collapsed": false
   },
   "outputs": [],
   "source": [
    "\n",
    "model = gensim.models.Word2Vec(corpus, min_count=1)"
   ]
  },
  {
   "cell_type": "code",
   "execution_count": 25,
   "metadata": {
    "collapsed": false
   },
   "outputs": [
    {
     "data": {
      "text/plain": [
       "[(u'belajar?', 0.20056794583797455),\n",
       " (u'is', 0.18630078434944153),\n",
       " (u'bagaimana', 0.1842157244682312),\n",
       " (u'dan', 0.16245855391025543),\n",
       " (u'bareng', 0.14535659551620483),\n",
       " (u'kue', 0.11639939993619919),\n",
       " (u'penemu', 0.10228648781776428),\n",
       " (u'minat', 0.08774662017822266),\n",
       " (u'kemampuan', 0.07942962646484375),\n",
       " (u'cara', 0.07334716618061066)]"
      ]
     },
     "execution_count": 25,
     "metadata": {},
     "output_type": "execute_result"
    }
   ],
   "source": [
    "model.most_similar(\"haha\")"
   ]
  }
 ],
 "metadata": {
  "kernelspec": {
   "display_name": "Python 2",
   "language": "python",
   "name": "python2"
  },
  "language_info": {
   "codemirror_mode": {
    "name": "ipython",
    "version": 2
   },
   "file_extension": ".py",
   "mimetype": "text/x-python",
   "name": "python",
   "nbconvert_exporter": "python",
   "pygments_lexer": "ipython2",
   "version": "2.7.12"
  }
 },
 "nbformat": 4,
 "nbformat_minor": 0
}
